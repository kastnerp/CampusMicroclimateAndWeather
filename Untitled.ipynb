{
 "cells": [
  {
   "cell_type": "code",
   "execution_count": null,
   "metadata": {},
   "outputs": [],
   "source": [
    "from hoboreader import HoboReader\n",
    "from pandas import read_csv\n",
    "from matplotlib import pyplot\n",
    "import matplotlib.pyplot as plt\n",
    "import matplotlib.dates as mdates\n",
    "import numpy as np\n",
    "from pathlib import Path\n",
    "from ipywidgets import interact, interactive, fixed, interact_manual\n",
    "import ipywidgets as widgets\n",
    "import pandas as pd\n",
    "import helper_functions\n",
    "import plotly.express as px\n",
    "%matplotlib inline\n",
    "\n",
    "S1 = HoboReader(\"DL1_Stone_Garden_Tjaden_Hall.csv\")\n",
    "S2 = HoboReader(\"DL2_PSB_Parking_Lot.csv\")\n",
    "S3 = HoboReader(\"DL3_Olin_Library.csv\")\n",
    "S4 = HoboReader(\"DL4_Milstein_Hall_Roof.csv\")\n",
    "S5 = HoboReader(\"DL5_Game_Farm_Road_20192020v5.csv\")\n",
    "\n",
    "\n",
    "df1 = S1.get_dataframe()\n",
    "df2 = S2.get_dataframe()\n",
    "df3 = S3.get_dataframe()\n",
    "df4 = S4.get_dataframe()\n",
    "df5 = S5.get_dataframe()\n"
   ]
  }
 ],
 "metadata": {
  "kernelspec": {
   "display_name": "Python 3",
   "language": "python",
   "name": "python3"
  },
  "language_info": {
   "codemirror_mode": {
    "name": "ipython",
    "version": 3
   },
   "file_extension": ".py",
   "mimetype": "text/x-python",
   "name": "python",
   "nbconvert_exporter": "python",
   "pygments_lexer": "ipython3",
   "version": "3.7.4"
  },
  "varInspector": {
   "cols": {
    "lenName": 16,
    "lenType": 16,
    "lenVar": 40
   },
   "kernels_config": {
    "python": {
     "delete_cmd_postfix": "",
     "delete_cmd_prefix": "del ",
     "library": "var_list.py",
     "varRefreshCmd": "print(var_dic_list())"
    },
    "r": {
     "delete_cmd_postfix": ") ",
     "delete_cmd_prefix": "rm(",
     "library": "var_list.r",
     "varRefreshCmd": "cat(var_dic_list()) "
    }
   },
   "types_to_exclude": [
    "module",
    "function",
    "builtin_function_or_method",
    "instance",
    "_Feature"
   ],
   "window_display": false
  }
 },
 "nbformat": 4,
 "nbformat_minor": 2
}
